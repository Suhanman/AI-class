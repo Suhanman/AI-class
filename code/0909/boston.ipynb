# -----------------------------
# 0) 라이브러리 임포트
# -----------------------------
import numpy as np
import pandas as pd

from sklearn.model_selection import train_test_split
from sklearn.tree import DecisionTreeRegressor
from sklearn.ensemble import RandomForestRegressor
from sklearn.linear_model import LinearRegression
from sklearn.pipeline import make_pipeline
from sklearn.preprocessing import StandardScaler
from sklearn.metrics import mean_absolute_error, mean_squared_error, r2_score

# -----------------------------
# 1) 데이터 불러오기
# -----------------------------
df = pd.read_csv("boston.csv")

# 보통 'MEDV' 컬럼이 목표변수 (집값, 단위: $1000s)
X = df.drop(columns=["MEDV"])
y = df["MEDV"]

# -----------------------------
# 2) 데이터 분할
# -----------------------------
X_train, X_test, y_train, y_test = train_test_split(
    X, y, test_size=0.2, random_state=42
)

# -----------------------------
# 3) 모델 정의
# -----------------------------
dt = DecisionTreeRegressor(random_state=42)
rf = RandomForestRegressor(n_estimators=300, random_state=42, n_jobs=-1)

# 선형회귀는 스케일링과 함께 파이프라인 구성 권장
lr = make_pipeline(StandardScaler(with_mean=True, with_std=True), LinearRegression())

# -----------------------------
# 4) 모델 학습
# -----------------------------
dt.fit(X_train, y_train)
rf.fit(X_train, y_train)
lr.fit(X_train, y_train)

# -----------------------------
# 5) 평가 함수
# -----------------------------
def eval_reg(y_true, y_pred):
    mae  = mean_absolute_error(y_true, y_pred)
    rmse = mean_squared_error(y_true, y_pred, squared=False)
    r2   = r2_score(y_true, y_pred)
    return mae, rmse, r2

# -----------------------------
# 6) 모델 평가
# -----------------------------
dt_mae, dt_rmse, dt_r2 = eval_reg(y_test, dt.predict(X_test))
rf_mae, rf_rmse, rf_r2 = eval_reg(y_test, rf.predict(X_test))
lr_mae, lr_rmse, lr_r2 = eval_reg(y_test, lr.predict(X_test))

print("=== Test Metrics (Boston Housing) ===")
print("[Decision Tree]")
print(f"MAE: {dt_mae:.3f} | RMSE: {dt_rmse:.3f} | R^2: {dt_r2:.3f}")

print("[Random Forest]")
print(f"MAE: {rf_mae:.3f} | RMSE: {rf_rmse:.3f} | R^2: {rf_r2:.3f}")

print("[Linear Regression]")
print(f"MAE: {lr_mae:.3f} | RMSE: {lr_rmse:.3f} | R^2: {lr_r2:.3f}")
